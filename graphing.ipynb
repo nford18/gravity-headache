{
 "cells": [
  {
   "cell_type": "markdown",
   "metadata": {},
   "source": []
  },
  {
   "cell_type": "markdown",
   "metadata": {},
   "source": [
    "**Imports and Defines**"
   ]
  },
  {
   "cell_type": "code",
   "execution_count": 3,
   "metadata": {},
   "outputs": [],
   "source": [
    "\n",
    "import matplotlib.pyplot as plt\n",
    "import math\n",
    "\n",
    "def getDist(v1, v2, i):\n",
    "    return math.sqrt( (v1[0][i]-v2[0][i])**2 + (v1[1][i]-v2[1][i])**2 + (v1[2][i]-v2[2][i])**2)\n",
    "\n",
    "def getDir(v1, v2, i):\n",
    "    return [v1[0][i]-v2[0][i], v1[1][i]-v2[1][i] , v1[2][i]-v2[2][i]]\n",
    "\n",
    "G = 6.67* 10**-11\n",
    "t_max = 1 # yr\n",
    "dt = 0.001 # yrs"
   ]
  },
  {
   "cell_type": "markdown",
   "metadata": {},
   "source": [
    "**Data Import** "
   ]
  },
  {
   "cell_type": "code",
   "execution_count": null,
   "metadata": {},
   "outputs": [],
   "source": [
    "filename = \"control10d\"\n",
    "\n",
    "# Lisa\n",
    "with open(\"./cappy/plots/\" + filename + \".csv\") as file:\n",
    "    data = file.readlines()\n",
    "    data_list = []\n",
    "    pos = [[[],[],[]],[[],[],[]],[[],[],[]]] # pos[n][x_i][~t]\n",
    "    for i in range(len(data)):\n",
    "        data_list.append(data[i].strip(\"\\n\").split(\",\"))\n",
    "    for i in range(len(data_list)):\n",
    "        for j in range(len(data_list[i])):\n",
    "            pos[j//3][j%3].append(float(data_list[i][j]))\n",
    "\n",
    "# Asteroid\n",
    "filename = \"\"\n",
    "with open(\"./cappy/plots/\" + filename + \".csv\") as file:\n",
    "    m_ast = float(file.readline().strip(\"\\n\"))\n",
    "    data = file.readlines()\n",
    "    data_list = []\n",
    "    pos_ast = [[],[],[]] # pos[x_i][~t]\n",
    "    for i in range(len(data)):\n",
    "        data_list.append(data[i].strip(\"\\n\").split(\",\"))\n",
    "    for i in range(len(data_list)):\n",
    "        for j in range(len(data_list[i])):\n",
    "            pos_ast[j%3].append(float(data_list[i][j]))"
   ]
  },
  {
   "cell_type": "markdown",
   "metadata": {},
   "source": [
    "**LISA Orbit Plot**"
   ]
  },
  {
   "cell_type": "code",
   "execution_count": null,
   "metadata": {},
   "outputs": [],
   "source": [
    "ax = plt.figure().add_subplot(111, projection='3d')\n",
    "ax.scatter(pos[0][0] + pos[1][0] + pos[2][0]\n",
    "          ,pos[0][1] + pos[1][1] + pos[2][1]\n",
    "          ,pos[0][2] + pos[1][2] + pos[2][2])\n",
    "ax.set_xlabel('x (AU)')\n",
    "ax.set_ylabel('y (AU)')\n",
    "ax.set_zlabel('z (AU)')\n",
    "ax.set_xlim3d(-1.05,1.05)\n",
    "ax.set_ylim3d(-1.05,1.05)\n",
    "\n",
    "# ax.set_zlim3d(-0.5, 0.5) # zoom out\n",
    "ax.set_zlim3d(-0.075, 0.075) # zoom in\n",
    "plt.title('The LISA plots')\n",
    "plt.show()"
   ]
  },
  {
   "cell_type": "markdown",
   "metadata": {},
   "source": [
    "**Satellite Separation**"
   ]
  },
  {
   "cell_type": "code",
   "execution_count": null,
   "metadata": {},
   "outputs": [],
   "source": [
    "posDiff = [[],[],[],[]] # t, 01, 02, 12\n",
    "t_max = 1 # yr\n",
    "dt = 0.001 # yrs\n",
    "# dt = 1/365/24/3600 # 1 sec in yrs\n",
    "for i in range(len(pos[0][0])):\n",
    "    posDiff[0].append(i*dt)\n",
    "    posDiff[1].append(getDist(pos[0],pos[1],i))\n",
    "    posDiff[2].append(getDist(pos[0],pos[2],i))\n",
    "    posDiff[3].append(getDist(pos[1],pos[2],i))\n",
    "plt.plot(posDiff[0], posDiff[1], label = \"0-1 Separation\")\n",
    "plt.plot(posDiff[0], posDiff[2], label = \"0-2 Separation\")\n",
    "plt.plot(posDiff[0], posDiff[3], label = \"1-2 Separation\")\n",
    "plt.title(\"LISA Craft Separation Through Orbit\")\n",
    "plt.xlabel(\"Time (yr)\")\n",
    "plt.ylabel(\"Distance (AU)\")\n",
    "plt.legend()\n",
    "plt.show()"
   ]
  },
  {
   "cell_type": "markdown",
   "metadata": {},
   "source": [
    "**Acceleration From Asteroid**"
   ]
  },
  {
   "cell_type": "code",
   "execution_count": null,
   "metadata": {},
   "outputs": [],
   "source": [
    "accel = [[],[],[]] # [n]\n",
    "for n in range(len(pos)):\n",
    "    for i in range(min(len(pos[n]),len(pos_ast))):\n",
    "        a = G* m_ast/getDist(pos[n], pos_ast, i)**2\n",
    "        accel[n].append(a)\n",
    "accel_ave = []\n",
    "for i in range(accel[0]):\n",
    "    accel_ave.append((accel[0]+accel[1]))"
   ]
  }
 ],
 "metadata": {
  "kernelspec": {
   "display_name": "Python 3",
   "language": "python",
   "name": "python3"
  },
  "language_info": {
   "codemirror_mode": {
    "name": "ipython",
    "version": 3
   },
   "file_extension": ".py",
   "mimetype": "text/x-python",
   "name": "python",
   "nbconvert_exporter": "python",
   "pygments_lexer": "ipython3",
   "version": "3.10.11"
  }
 },
 "nbformat": 4,
 "nbformat_minor": 2
}
